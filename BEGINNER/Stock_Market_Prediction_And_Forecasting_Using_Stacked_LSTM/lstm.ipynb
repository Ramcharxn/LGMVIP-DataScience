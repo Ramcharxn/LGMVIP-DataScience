{
 "cells": [
  {
   "cell_type": "markdown",
   "metadata": {},
   "source": [
    "### Stock Market Prediction And Forecasting Using Stacked LSTM"
   ]
  },
  {
   "cell_type": "code",
   "execution_count": 1,
   "metadata": {},
   "outputs": [],
   "source": [
    "import pandas as pd\n",
    "import numpy as np"
   ]
  },
  {
   "cell_type": "markdown",
   "metadata": {},
   "source": [
    "### Reading the Dataset"
   ]
  },
  {
   "cell_type": "code",
   "execution_count": 2,
   "metadata": {},
   "outputs": [
    {
     "data": {
      "text/html": [
       "<div>\n",
       "<style scoped>\n",
       "    .dataframe tbody tr th:only-of-type {\n",
       "        vertical-align: middle;\n",
       "    }\n",
       "\n",
       "    .dataframe tbody tr th {\n",
       "        vertical-align: top;\n",
       "    }\n",
       "\n",
       "    .dataframe thead th {\n",
       "        text-align: right;\n",
       "    }\n",
       "</style>\n",
       "<table border=\"1\" class=\"dataframe\">\n",
       "  <thead>\n",
       "    <tr style=\"text-align: right;\">\n",
       "      <th></th>\n",
       "      <th>Date</th>\n",
       "      <th>Open</th>\n",
       "      <th>High</th>\n",
       "      <th>Low</th>\n",
       "      <th>Last</th>\n",
       "      <th>Close</th>\n",
       "      <th>Total Trade Quantity</th>\n",
       "      <th>Turnover (Lacs)</th>\n",
       "    </tr>\n",
       "  </thead>\n",
       "  <tbody>\n",
       "    <tr>\n",
       "      <th>0</th>\n",
       "      <td>2018-09-28</td>\n",
       "      <td>234.05</td>\n",
       "      <td>235.95</td>\n",
       "      <td>230.20</td>\n",
       "      <td>233.50</td>\n",
       "      <td>233.75</td>\n",
       "      <td>3069914</td>\n",
       "      <td>7162.35</td>\n",
       "    </tr>\n",
       "    <tr>\n",
       "      <th>1</th>\n",
       "      <td>2018-09-27</td>\n",
       "      <td>234.55</td>\n",
       "      <td>236.80</td>\n",
       "      <td>231.10</td>\n",
       "      <td>233.80</td>\n",
       "      <td>233.25</td>\n",
       "      <td>5082859</td>\n",
       "      <td>11859.95</td>\n",
       "    </tr>\n",
       "    <tr>\n",
       "      <th>2</th>\n",
       "      <td>2018-09-26</td>\n",
       "      <td>240.00</td>\n",
       "      <td>240.00</td>\n",
       "      <td>232.50</td>\n",
       "      <td>235.00</td>\n",
       "      <td>234.25</td>\n",
       "      <td>2240909</td>\n",
       "      <td>5248.60</td>\n",
       "    </tr>\n",
       "    <tr>\n",
       "      <th>3</th>\n",
       "      <td>2018-09-25</td>\n",
       "      <td>233.30</td>\n",
       "      <td>236.75</td>\n",
       "      <td>232.00</td>\n",
       "      <td>236.25</td>\n",
       "      <td>236.10</td>\n",
       "      <td>2349368</td>\n",
       "      <td>5503.90</td>\n",
       "    </tr>\n",
       "    <tr>\n",
       "      <th>4</th>\n",
       "      <td>2018-09-24</td>\n",
       "      <td>233.55</td>\n",
       "      <td>239.20</td>\n",
       "      <td>230.75</td>\n",
       "      <td>234.00</td>\n",
       "      <td>233.30</td>\n",
       "      <td>3423509</td>\n",
       "      <td>7999.55</td>\n",
       "    </tr>\n",
       "  </tbody>\n",
       "</table>\n",
       "</div>"
      ],
      "text/plain": [
       "         Date    Open    High     Low    Last   Close  Total Trade Quantity  \\\n",
       "0  2018-09-28  234.05  235.95  230.20  233.50  233.75               3069914   \n",
       "1  2018-09-27  234.55  236.80  231.10  233.80  233.25               5082859   \n",
       "2  2018-09-26  240.00  240.00  232.50  235.00  234.25               2240909   \n",
       "3  2018-09-25  233.30  236.75  232.00  236.25  236.10               2349368   \n",
       "4  2018-09-24  233.55  239.20  230.75  234.00  233.30               3423509   \n",
       "\n",
       "   Turnover (Lacs)  \n",
       "0          7162.35  \n",
       "1         11859.95  \n",
       "2          5248.60  \n",
       "3          5503.90  \n",
       "4          7999.55  "
      ]
     },
     "execution_count": 2,
     "metadata": {},
     "output_type": "execute_result"
    }
   ],
   "source": [
    "df = pd.read_csv('lstm.csv')\n",
    "df.head()"
   ]
  },
  {
   "cell_type": "code",
   "execution_count": 3,
   "metadata": {},
   "outputs": [
    {
     "data": {
      "text/plain": [
       "0    230.20\n",
       "1    231.10\n",
       "2    232.50\n",
       "3    232.00\n",
       "4    230.75\n",
       "Name: Low, dtype: float64"
      ]
     },
     "execution_count": 3,
     "metadata": {},
     "output_type": "execute_result"
    }
   ],
   "source": [
    "df1 = df.reset_index()['Low']\n",
    "df1.head()"
   ]
  },
  {
   "cell_type": "markdown",
   "metadata": {},
   "source": [
    "### Data visualization"
   ]
  },
  {
   "cell_type": "code",
   "execution_count": 4,
   "metadata": {},
   "outputs": [
    {
     "data": {
      "text/plain": [
       "[<matplotlib.lines.Line2D at 0x1bbfe4bafa0>]"
      ]
     },
     "execution_count": 4,
     "metadata": {},
     "output_type": "execute_result"
    },
    {
     "data": {
      "image/png": "[encoded data removed]",
      "text/plain": [
       "<Figure size 432x288 with 1 Axes>"
      ]
     },
     "metadata": {
      "needs_background": "light"
     },
     "output_type": "display_data"
    }
   ],
   "source": [
    "import matplotlib.pyplot as plt\n",
    "plt.plot(df1)"
   ]
  },
  {
   "cell_type": "markdown",
   "metadata": {},
   "source": [
    "### Data preprocessing"
   ]
  },
  {
   "cell_type": "code",
   "execution_count": 5,
   "metadata": {},
   "outputs": [
    {
     "data": {
      "text/plain": [
       "array([[0.62156011],\n",
       "       [0.6252845 ],\n",
       "       [0.63107801],\n",
       "       ...,\n",
       "       [0.16656321],\n",
       "       [0.16656321],\n",
       "       [0.16987378]])"
      ]
     },
     "execution_count": 5,
     "metadata": {},
     "output_type": "execute_result"
    }
   ],
   "source": [
    "from sklearn.preprocessing import MinMaxScaler\n",
    "scaler = MinMaxScaler()\n",
    "df1 = scaler.fit_transform(np.array(df1).reshape(-1,1))\n",
    "df1"
   ]
  },
  {
   "cell_type": "code",
   "execution_count": 6,
   "metadata": {},
   "outputs": [],
   "source": [
    "train_size = int(len(df1)*0.80)\n",
    "test_size = len(df1)-train_size\n",
    "train_data , test_data = df1[:train_size], df1[train_size:]"
   ]
  },
  {
   "cell_type": "code",
   "execution_count": 7,
   "metadata": {},
   "outputs": [],
   "source": [
    "def create_dataset(dataset, time_step=1):\n",
    "    dataX, dataY = [], []\n",
    "    for i in range(len(dataset)-time_step-1):\n",
    "        a = dataset[i:(i+time_step)]\n",
    "        dataX.append(a)\n",
    "        dataY.append(dataset[i+time_step])\n",
    "    return np.array(dataX), np.array(dataY)"
   ]
  },
  {
   "cell_type": "code",
   "execution_count": 8,
   "metadata": {},
   "outputs": [],
   "source": [
    "time_step=100\n",
    "X_train, y_train = create_dataset(train_data, time_step)\n",
    "X_test, y_test = create_dataset(test_data, time_step)"
   ]
  },
  {
   "cell_type": "markdown",
   "metadata": {},
   "source": [
    "### Building model"
   ]
  },
  {
   "cell_type": "code",
   "execution_count": 9,
   "metadata": {},
   "outputs": [],
   "source": [
    "from keras.models import Sequential\n",
    "from keras.layers import LSTM, Dense"
   ]
  },
  {
   "cell_type": "code",
   "execution_count": 10,
   "metadata": {},
   "outputs": [],
   "source": [
    "model = Sequential()\n",
    "model.add(LSTM(50, return_sequences=True, input_shape=(100,1)))\n",
    "model.add(LSTM(50, return_sequences=True))\n",
    "model.add(LSTM(50))\n",
    "model.add(Dense(1))\n",
    "model.compile(loss='mse', optimizer='adam')"
   ]
  },
  {
   "cell_type": "code",
   "execution_count": 11,
   "metadata": {},
   "outputs": [
    {
     "name": "stdout",
     "output_type": "stream",
     "text": [
      "Model: \"sequential\"\n",
      "_________________________________________________________________\n",
      "Layer (type)                 Output Shape              Param #   \n",
      "=================================================================\n",
      "lstm (LSTM)                  (None, 100, 50)           10400     \n",
      "_________________________________________________________________\n",
      "lstm_1 (LSTM)                (None, 100, 50)           20200     \n",
      "_________________________________________________________________\n",
      "lstm_2 (LSTM)                (None, 50)                20200     \n",
      "_________________________________________________________________\n",
      "dense (Dense)                (None, 1)                 51        \n",
      "=================================================================\n",
      "Total params: 50,851\n",
      "Trainable params: 50,851\n",
      "Non-trainable params: 0\n",
      "_________________________________________________________________\n"
     ]
    }
   ],
   "source": [
    "model.summary()"
   ]
  },
  {
   "cell_type": "markdown",
   "metadata": {},
   "source": [
    "### Traing the model and predicting the output"
   ]
  },
  {
   "cell_type": "code",
   "execution_count": 12,
   "metadata": {},
   "outputs": [
    {
     "name": "stdout",
     "output_type": "stream",
     "text": [
      "Epoch 1/40\n",
      "24/24 [==============================] - 19s 95ms/step - loss: 0.0178 - val_loss: 0.0031\n",
      "Epoch 2/40\n",
      "24/24 [==============================] - 1s 44ms/step - loss: 0.0018 - val_loss: 5.6734e-04\n",
      "Epoch 3/40\n",
      "24/24 [==============================] - 1s 39ms/step - loss: 0.0015 - val_loss: 7.3932e-04\n",
      "Epoch 4/40\n",
      "24/24 [==============================] - 1s 34ms/step - loss: 0.0014 - val_loss: 8.2126e-04\n",
      "Epoch 5/40\n",
      "24/24 [==============================] - 1s 31ms/step - loss: 0.0013 - val_loss: 6.6272e-04\n",
      "Epoch 6/40\n",
      "24/24 [==============================] - 1s 33ms/step - loss: 0.0013 - val_loss: 7.6183e-04\n",
      "Epoch 7/40\n",
      "24/24 [==============================] - 1s 32ms/step - loss: 0.0014 - val_loss: 9.2842e-04\n",
      "Epoch 8/40\n",
      "24/24 [==============================] - 1s 34ms/step - loss: 0.0015 - val_loss: 5.1497e-04\n",
      "Epoch 9/40\n",
      "24/24 [==============================] - 1s 33ms/step - loss: 0.0012 - val_loss: 4.7158e-04\n",
      "Epoch 10/40\n",
      "24/24 [==============================] - 1s 34ms/step - loss: 0.0011 - val_loss: 5.6056e-04\n",
      "Epoch 11/40\n",
      "24/24 [==============================] - 1s 33ms/step - loss: 0.0010 - val_loss: 6.7486e-04\n",
      "Epoch 12/40\n",
      "24/24 [==============================] - 1s 35ms/step - loss: 9.7773e-04 - val_loss: 4.4336e-04\n",
      "Epoch 13/40\n",
      "24/24 [==============================] - 1s 33ms/step - loss: 9.9971e-04 - val_loss: 4.8168e-04\n",
      "Epoch 14/40\n",
      "24/24 [==============================] - 1s 34ms/step - loss: 9.1988e-04 - val_loss: 4.3570e-04\n",
      "Epoch 15/40\n",
      "24/24 [==============================] - 1s 33ms/step - loss: 8.4086e-04 - val_loss: 5.3369e-04\n",
      "Epoch 16/40\n",
      "24/24 [==============================] - 1s 34ms/step - loss: 8.2903e-04 - val_loss: 5.1968e-04\n",
      "Epoch 17/40\n",
      "24/24 [==============================] - 1s 35ms/step - loss: 8.0074e-04 - val_loss: 5.0005e-04\n",
      "Epoch 18/40\n",
      "24/24 [==============================] - 1s 34ms/step - loss: 7.7875e-04 - val_loss: 4.0545e-04\n",
      "Epoch 19/40\n",
      "24/24 [==============================] - 1s 33ms/step - loss: 7.4680e-04 - val_loss: 5.3641e-04\n",
      "Epoch 20/40\n",
      "24/24 [==============================] - 1s 35ms/step - loss: 7.0160e-04 - val_loss: 4.1492e-04\n",
      "Epoch 21/40\n",
      "24/24 [==============================] - 1s 34ms/step - loss: 7.5295e-04 - val_loss: 4.4772e-04\n",
      "Epoch 22/40\n",
      "24/24 [==============================] - 1s 34ms/step - loss: 6.8502e-04 - val_loss: 4.2024e-04\n",
      "Epoch 23/40\n",
      "24/24 [==============================] - 1s 33ms/step - loss: 6.7452e-04 - val_loss: 5.1053e-04\n",
      "Epoch 24/40\n",
      "24/24 [==============================] - 1s 34ms/step - loss: 6.4799e-04 - val_loss: 4.6969e-04\n",
      "Epoch 25/40\n",
      "24/24 [==============================] - 1s 32ms/step - loss: 6.8015e-04 - val_loss: 4.1648e-04\n",
      "Epoch 26/40\n",
      "24/24 [==============================] - 1s 33ms/step - loss: 6.7998e-04 - val_loss: 4.0103e-04\n",
      "Epoch 27/40\n",
      "24/24 [==============================] - 1s 33ms/step - loss: 5.9371e-04 - val_loss: 3.7536e-04\n",
      "Epoch 28/40\n",
      "24/24 [==============================] - 1s 34ms/step - loss: 5.9777e-04 - val_loss: 4.0999e-04\n",
      "Epoch 29/40\n",
      "24/24 [==============================] - 1s 34ms/step - loss: 5.6767e-04 - val_loss: 3.4538e-04\n",
      "Epoch 30/40\n",
      "24/24 [==============================] - 1s 33ms/step - loss: 6.2297e-04 - val_loss: 3.4279e-04\n",
      "Epoch 31/40\n",
      "24/24 [==============================] - 1s 32ms/step - loss: 5.7511e-04 - val_loss: 3.9331e-04\n",
      "Epoch 32/40\n",
      "24/24 [==============================] - 1s 32ms/step - loss: 5.5612e-04 - val_loss: 3.7305e-04\n",
      "Epoch 33/40\n",
      "24/24 [==============================] - 1s 35ms/step - loss: 5.1520e-04 - val_loss: 2.9360e-04\n",
      "Epoch 34/40\n",
      "24/24 [==============================] - 1s 33ms/step - loss: 5.1474e-04 - val_loss: 3.3584e-04\n",
      "Epoch 35/40\n",
      "24/24 [==============================] - 1s 35ms/step - loss: 5.0471e-04 - val_loss: 3.3284e-04\n",
      "Epoch 36/40\n",
      "24/24 [==============================] - 1s 34ms/step - loss: 4.6328e-04 - val_loss: 3.5756e-04\n",
      "Epoch 37/40\n",
      "24/24 [==============================] - 1s 34ms/step - loss: 4.7591e-04 - val_loss: 3.2025e-04\n",
      "Epoch 38/40\n",
      "24/24 [==============================] - 1s 33ms/step - loss: 5.0558e-04 - val_loss: 3.2713e-04\n",
      "Epoch 39/40\n",
      "24/24 [==============================] - 1s 33ms/step - loss: 4.3385e-04 - val_loss: 2.9101e-04\n",
      "Epoch 40/40\n",
      "24/24 [==============================] - 1s 34ms/step - loss: 4.3930e-04 - val_loss: 2.5847e-04\n"
     ]
    }
   ],
   "source": [
    "history = model.fit(X_train, y_train, validation_data=(X_test, y_test), epochs=40, batch_size=64)"
   ]
  },
  {
   "cell_type": "code",
   "execution_count": 13,
   "metadata": {},
   "outputs": [],
   "source": [
    "train_predict = model.predict(X_train)\n",
    "test_predict = model.predict(X_test)"
   ]
  },
  {
   "cell_type": "code",
   "execution_count": 14,
   "metadata": {},
   "outputs": [
    {
     "data": {
      "text/plain": [
       "array([[115.15265]], dtype=float32)"
      ]
     },
     "execution_count": 14,
     "metadata": {},
     "output_type": "execute_result"
    }
   ],
   "source": [
    "trans = model.predict(X_test[-1::]) \n",
    "output = scaler.inverse_transform(trans)\n",
    "output"
   ]
  },
  {
   "cell_type": "code",
   "execution_count": 15,
   "metadata": {},
   "outputs": [],
   "source": [
    "train_predict = scaler.inverse_transform(train_predict)\n",
    "test_predict = scaler.inverse_transform(test_predict)"
   ]
  },
  {
   "cell_type": "code",
   "execution_count": 16,
   "metadata": {},
   "outputs": [
    {
     "data": {
      "text/plain": [
       "156.14392839094822"
      ]
     },
     "execution_count": 16,
     "metadata": {},
     "output_type": "execute_result"
    }
   ],
   "source": [
    "import math\n",
    "from sklearn.metrics import mean_squared_error\n",
    "math.sqrt(mean_squared_error(y_train, train_predict))"
   ]
  },
  {
   "cell_type": "code",
   "execution_count": 17,
   "metadata": {},
   "outputs": [
    {
     "data": {
      "text/plain": [
       "105.40351356291535"
      ]
     },
     "execution_count": 17,
     "metadata": {},
     "output_type": "execute_result"
    }
   ],
   "source": [
    "math.sqrt(mean_squared_error(y_test, test_predict))"
   ]
  },
  {
   "cell_type": "markdown",
   "metadata": {},
   "source": [
    "### Data visualization"
   ]
  },
  {
   "cell_type": "code",
   "execution_count": 18,
   "metadata": {},
   "outputs": [
    {
     "data": {
      "image/png": "[encoded data removed]",
      "text/plain": [
       "<Figure size 432x288 with 1 Axes>"
      ]
     },
     "metadata": {
      "needs_background": "light"
     },
     "output_type": "display_data"
    }
   ],
   "source": [
    "look_back=100\n",
    "trainPredictPlot = np.empty_like(df1)\n",
    "trainPredictPlot[:] = np.nan\n",
    "trainPredictPlot[look_back:len(train_predict)+look_back] = train_predict\n",
    "\n",
    "testPredictPlot = np.empty_like(df1)\n",
    "testPredictPlot[:] = np.nan\n",
    "testPredictPlot[len(train_predict)+(look_back*2)+1:len(df1)-1] = test_predict\n",
    "\n",
    "plt.plot(scaler.inverse_transform(df1))\n",
    "plt.plot(trainPredictPlot)\n",
    "plt.plot(testPredictPlot)\n",
    "plt.show()"
   ]
  },
  {
   "cell_type": "code",
   "execution_count": 19,
   "metadata": {},
   "outputs": [
    {
     "data": {
      "text/plain": [
       "407"
      ]
     },
     "execution_count": 19,
     "metadata": {},
     "output_type": "execute_result"
    }
   ],
   "source": [
    "len(test_data)"
   ]
  },
  {
   "cell_type": "code",
   "execution_count": 20,
   "metadata": {},
   "outputs": [
    {
     "data": {
      "text/plain": [
       "(1, 100)"
      ]
     },
     "execution_count": 20,
     "metadata": {},
     "output_type": "execute_result"
    }
   ],
   "source": [
    "x_input=test_data[307:].reshape(1,-1)\n",
    "x_input.shape"
   ]
  },
  {
   "cell_type": "code",
   "execution_count": 21,
   "metadata": {},
   "outputs": [
    {
     "data": {
      "text/plain": [
       "[0.1249741361473205,\n",
       " 0.13945789364783778,\n",
       " 0.13904407200496582,\n",
       " 0.1373887854334782,\n",
       " 0.13490585557624662,\n",
       " 0.14214773432650524,\n",
       " 0.13656114214773435,\n",
       " 0.12849162011173182,\n",
       " 0.12456031450444854,\n",
       " 0.09724808607490171,\n",
       " 0.11276639768259877,\n",
       " 0.14959652389819988,\n",
       " 0.14111318021932545,\n",
       " 0.1531140078626112,\n",
       " 0.14525139664804465,\n",
       " 0.1460790399337885,\n",
       " 0.1655286571487689,\n",
       " 0.17835712807779847,\n",
       " 0.18290916614938968,\n",
       " 0.19573763707841918,\n",
       " 0.19449617214980341,\n",
       " 0.1827022553279537,\n",
       " 0.18415063107800544,\n",
       " 0.18704738257810882,\n",
       " 0.17835712807779847,\n",
       " 0.18208152286364576,\n",
       " 0.1843575418994413,\n",
       " 0.1779433064349265,\n",
       " 0.16759776536312848,\n",
       " 0.19573763707841918,\n",
       " 0.18849575832816057,\n",
       " 0.19325470722118765,\n",
       " 0.19966894268570246,\n",
       " 0.19884129939995865,\n",
       " 0.20153114007862605,\n",
       " 0.20070349679288224,\n",
       " 0.1992551210428306,\n",
       " 0.1918063314711359,\n",
       " 0.2002896751500104,\n",
       " 0.2112559486861163,\n",
       " 0.21249741361473207,\n",
       " 0.20691082143596107,\n",
       " 0.2205669356507346,\n",
       " 0.21146285950755228,\n",
       " 0.20546244568590943,\n",
       " 0.19490999379267537,\n",
       " 0.17877094972067042,\n",
       " 0.17877094972067042,\n",
       " 0.17090833850610387,\n",
       " 0.1620111731843576,\n",
       " 0.17049451686323192,\n",
       " 0.17401200082764323,\n",
       " 0.17856403889923445,\n",
       " 0.17732257397061868,\n",
       " 0.165114835505897,\n",
       " 0.16470101386302505,\n",
       " 0.1698737843989241,\n",
       " 0.17380509000620736,\n",
       " 0.17214980343471964,\n",
       " 0.17173598179184768,\n",
       " 0.1779433064349265,\n",
       " 0.1800124146492862,\n",
       " 0.18746120422098078,\n",
       " 0.19325470722118765,\n",
       " 0.18663356093523686,\n",
       " 0.1742189116490792,\n",
       " 0.1771156631491827,\n",
       " 0.17318435754189943,\n",
       " 0.17380509000620736,\n",
       " 0.16635630043451277,\n",
       " 0.1493896130767639,\n",
       " 0.1518725429339955,\n",
       " 0.1535278295054831,\n",
       " 0.15145872129112353,\n",
       " 0.14649286157666047,\n",
       " 0.14918270225532793,\n",
       " 0.1324229257190151,\n",
       " 0.12849162011173182,\n",
       " 0.11793916821849781,\n",
       " 0.11628388164701009,\n",
       " 0.12290502793296093,\n",
       " 0.12725015518311605,\n",
       " 0.13490585557624662,\n",
       " 0.13345747982619494,\n",
       " 0.1324229257190151,\n",
       " 0.13056072832609145,\n",
       " 0.1324229257190151,\n",
       " 0.1313883716118353,\n",
       " 0.13987171529070969,\n",
       " 0.1493896130767639,\n",
       " 0.15683840264845855,\n",
       " 0.15145872129112353,\n",
       " 0.14318228843368508,\n",
       " 0.13449203393337472,\n",
       " 0.15394165114835506,\n",
       " 0.1324229257190151,\n",
       " 0.1535278295054831,\n",
       " 0.1665632112559487,\n",
       " 0.1665632112559487,\n",
       " 0.1698737843989241]"
      ]
     },
     "execution_count": 21,
     "metadata": {},
     "output_type": "execute_result"
    }
   ],
   "source": [
    "temp_input=list(x_input)\n",
    "temp_input=temp_input[0].tolist()\n",
    "temp_input"
   ]
  },
  {
   "cell_type": "code",
   "execution_count": 22,
   "metadata": {},
   "outputs": [
    {
     "name": "stdout",
     "output_type": "stream",
     "text": [
      "[0.15392151]\n",
      "101\n",
      "1 day input [0.13945789 0.13904407 0.13738879 0.13490586 0.14214773 0.13656114\n",
      " 0.12849162 0.12456031 0.09724809 0.1127664  0.14959652 0.14111318\n",
      " 0.15311401 0.1452514  0.14607904 0.16552866 0.17835713 0.18290917\n",
      " 0.19573764 0.19449617 0.18270226 0.18415063 0.18704738 0.17835713\n",
      " 0.18208152 0.18435754 0.17794331 0.16759777 0.19573764 0.18849576\n",
      " 0.19325471 0.19966894 0.1988413  0.20153114 0.2007035  0.19925512\n",
      " 0.19180633 0.20028968 0.21125595 0.21249741 0.20691082 0.22056694\n",
      " 0.21146286 0.20546245 0.19490999 0.17877095 0.17877095 0.17090834\n",
      " 0.16201117 0.17049452 0.174012   0.17856404 0.17732257 0.16511484\n",
      " 0.16470101 0.16987378 0.17380509 0.1721498  0.17173598 0.17794331\n",
      " 0.18001241 0.1874612  0.19325471 0.18663356 0.17421891 0.17711566\n",
      " 0.17318436 0.17380509 0.1663563  0.14938961 0.15187254 0.15352783\n",
      " 0.15145872 0.14649286 0.1491827  0.13242293 0.12849162 0.11793917\n",
      " 0.11628388 0.12290503 0.12725016 0.13490586 0.13345748 0.13242293\n",
      " 0.13056073 0.13242293 0.13138837 0.13987172 0.14938961 0.1568384\n",
      " 0.15145872 0.14318229 0.13449203 0.15394165 0.13242293 0.15352783\n",
      " 0.16656321 0.16656321 0.16987378 0.15392151]\n",
      "1 day output [[0.15727697]]\n",
      "2 day input [0.13904407 0.13738879 0.13490586 0.14214773 0.13656114 0.12849162\n",
      " 0.12456031 0.09724809 0.1127664  0.14959652 0.14111318 0.15311401\n",
      " 0.1452514  0.14607904 0.16552866 0.17835713 0.18290917 0.19573764\n",
      " 0.19449617 0.18270226 0.18415063 0.18704738 0.17835713 0.18208152\n",
      " 0.18435754 0.17794331 0.16759777 0.19573764 0.18849576 0.19325471\n",
      " 0.19966894 0.1988413  0.20153114 0.2007035  0.19925512 0.19180633\n",
      " 0.20028968 0.21125595 0.21249741 0.20691082 0.22056694 0.21146286\n",
      " 0.20546245 0.19490999 0.17877095 0.17877095 0.17090834 0.16201117\n",
      " 0.17049452 0.174012   0.17856404 0.17732257 0.16511484 0.16470101\n",
      " 0.16987378 0.17380509 0.1721498  0.17173598 0.17794331 0.18001241\n",
      " 0.1874612  0.19325471 0.18663356 0.17421891 0.17711566 0.17318436\n",
      " 0.17380509 0.1663563  0.14938961 0.15187254 0.15352783 0.15145872\n",
      " 0.14649286 0.1491827  0.13242293 0.12849162 0.11793917 0.11628388\n",
      " 0.12290503 0.12725016 0.13490586 0.13345748 0.13242293 0.13056073\n",
      " 0.13242293 0.13138837 0.13987172 0.14938961 0.1568384  0.15145872\n",
      " 0.14318229 0.13449203 0.15394165 0.13242293 0.15352783 0.16656321\n",
      " 0.16656321 0.16987378 0.15392151 0.15727697]\n",
      "2 day output [[0.15884978]]\n",
      "3 day input [0.13738879 0.13490586 0.14214773 0.13656114 0.12849162 0.12456031\n",
      " 0.09724809 0.1127664  0.14959652 0.14111318 0.15311401 0.1452514\n",
      " 0.14607904 0.16552866 0.17835713 0.18290917 0.19573764 0.19449617\n",
      " 0.18270226 0.18415063 0.18704738 0.17835713 0.18208152 0.18435754\n",
      " 0.17794331 0.16759777 0.19573764 0.18849576 0.19325471 0.19966894\n",
      " 0.1988413  0.20153114 0.2007035  0.19925512 0.19180633 0.20028968\n",
      " 0.21125595 0.21249741 0.20691082 0.22056694 0.21146286 0.20546245\n",
      " 0.19490999 0.17877095 0.17877095 0.17090834 0.16201117 0.17049452\n",
      " 0.174012   0.17856404 0.17732257 0.16511484 0.16470101 0.16987378\n",
      " 0.17380509 0.1721498  0.17173598 0.17794331 0.18001241 0.1874612\n",
      " 0.19325471 0.18663356 0.17421891 0.17711566 0.17318436 0.17380509\n",
      " 0.1663563  0.14938961 0.15187254 0.15352783 0.15145872 0.14649286\n",
      " 0.1491827  0.13242293 0.12849162 0.11793917 0.11628388 0.12290503\n",
      " 0.12725016 0.13490586 0.13345748 0.13242293 0.13056073 0.13242293\n",
      " 0.13138837 0.13987172 0.14938961 0.1568384  0.15145872 0.14318229\n",
      " 0.13449203 0.15394165 0.13242293 0.15352783 0.16656321 0.16656321\n",
      " 0.16987378 0.15392151 0.15727697 0.15884978]\n",
      "3 day output [[0.15909865]]\n",
      "4 day input [0.13490586 0.14214773 0.13656114 0.12849162 0.12456031 0.09724809\n",
      " 0.1127664  0.14959652 0.14111318 0.15311401 0.1452514  0.14607904\n",
      " 0.16552866 0.17835713 0.18290917 0.19573764 0.19449617 0.18270226\n",
      " 0.18415063 0.18704738 0.17835713 0.18208152 0.18435754 0.17794331\n",
      " 0.16759777 0.19573764 0.18849576 0.19325471 0.19966894 0.1988413\n",
      " 0.20153114 0.2007035  0.19925512 0.19180633 0.20028968 0.21125595\n",
      " 0.21249741 0.20691082 0.22056694 0.21146286 0.20546245 0.19490999\n",
      " 0.17877095 0.17877095 0.17090834 0.16201117 0.17049452 0.174012\n",
      " 0.17856404 0.17732257 0.16511484 0.16470101 0.16987378 0.17380509\n",
      " 0.1721498  0.17173598 0.17794331 0.18001241 0.1874612  0.19325471\n",
      " 0.18663356 0.17421891 0.17711566 0.17318436 0.17380509 0.1663563\n",
      " 0.14938961 0.15187254 0.15352783 0.15145872 0.14649286 0.1491827\n",
      " 0.13242293 0.12849162 0.11793917 0.11628388 0.12290503 0.12725016\n",
      " 0.13490586 0.13345748 0.13242293 0.13056073 0.13242293 0.13138837\n",
      " 0.13987172 0.14938961 0.1568384  0.15145872 0.14318229 0.13449203\n",
      " 0.15394165 0.13242293 0.15352783 0.16656321 0.16656321 0.16987378\n",
      " 0.15392151 0.15727697 0.15884978 0.15909865]\n",
      "4 day output [[0.15858258]]\n",
      "5 day input [0.14214773 0.13656114 0.12849162 0.12456031 0.09724809 0.1127664\n",
      " 0.14959652 0.14111318 0.15311401 0.1452514  0.14607904 0.16552866\n",
      " 0.17835713 0.18290917 0.19573764 0.19449617 0.18270226 0.18415063\n",
      " 0.18704738 0.17835713 0.18208152 0.18435754 0.17794331 0.16759777\n",
      " 0.19573764 0.18849576 0.19325471 0.19966894 0.1988413  0.20153114\n",
      " 0.2007035  0.19925512 0.19180633 0.20028968 0.21125595 0.21249741\n",
      " 0.20691082 0.22056694 0.21146286 0.20546245 0.19490999 0.17877095\n",
      " 0.17877095 0.17090834 0.16201117 0.17049452 0.174012   0.17856404\n",
      " 0.17732257 0.16511484 0.16470101 0.16987378 0.17380509 0.1721498\n",
      " 0.17173598 0.17794331 0.18001241 0.1874612  0.19325471 0.18663356\n",
      " 0.17421891 0.17711566 0.17318436 0.17380509 0.1663563  0.14938961\n",
      " 0.15187254 0.15352783 0.15145872 0.14649286 0.1491827  0.13242293\n",
      " 0.12849162 0.11793917 0.11628388 0.12290503 0.12725016 0.13490586\n",
      " 0.13345748 0.13242293 0.13056073 0.13242293 0.13138837 0.13987172\n",
      " 0.14938961 0.1568384  0.15145872 0.14318229 0.13449203 0.15394165\n",
      " 0.13242293 0.15352783 0.16656321 0.16656321 0.16987378 0.15392151\n",
      " 0.15727697 0.15884978 0.15909865 0.15858258]\n",
      "5 day output [[0.15772064]]\n",
      "6 day input [0.13656114 0.12849162 0.12456031 0.09724809 0.1127664  0.14959652\n",
      " 0.14111318 0.15311401 0.1452514  0.14607904 0.16552866 0.17835713\n",
      " 0.18290917 0.19573764 0.19449617 0.18270226 0.18415063 0.18704738\n",
      " 0.17835713 0.18208152 0.18435754 0.17794331 0.16759777 0.19573764\n",
      " 0.18849576 0.19325471 0.19966894 0.1988413  0.20153114 0.2007035\n",
      " 0.19925512 0.19180633 0.20028968 0.21125595 0.21249741 0.20691082\n",
      " 0.22056694 0.21146286 0.20546245 0.19490999 0.17877095 0.17877095\n",
      " 0.17090834 0.16201117 0.17049452 0.174012   0.17856404 0.17732257\n",
      " 0.16511484 0.16470101 0.16987378 0.17380509 0.1721498  0.17173598\n",
      " 0.17794331 0.18001241 0.1874612  0.19325471 0.18663356 0.17421891\n",
      " 0.17711566 0.17318436 0.17380509 0.1663563  0.14938961 0.15187254\n",
      " 0.15352783 0.15145872 0.14649286 0.1491827  0.13242293 0.12849162\n",
      " 0.11793917 0.11628388 0.12290503 0.12725016 0.13490586 0.13345748\n",
      " 0.13242293 0.13056073 0.13242293 0.13138837 0.13987172 0.14938961\n",
      " 0.1568384  0.15145872 0.14318229 0.13449203 0.15394165 0.13242293\n",
      " 0.15352783 0.16656321 0.16656321 0.16987378 0.15392151 0.15727697\n",
      " 0.15884978 0.15909865 0.15858258 0.15772064]\n",
      "6 day output [[0.15676188]]\n",
      "7 day input [0.12849162 0.12456031 0.09724809 0.1127664  0.14959652 0.14111318\n",
      " 0.15311401 0.1452514  0.14607904 0.16552866 0.17835713 0.18290917\n",
      " 0.19573764 0.19449617 0.18270226 0.18415063 0.18704738 0.17835713\n",
      " 0.18208152 0.18435754 0.17794331 0.16759777 0.19573764 0.18849576\n",
      " 0.19325471 0.19966894 0.1988413  0.20153114 0.2007035  0.19925512\n",
      " 0.19180633 0.20028968 0.21125595 0.21249741 0.20691082 0.22056694\n",
      " 0.21146286 0.20546245 0.19490999 0.17877095 0.17877095 0.17090834\n",
      " 0.16201117 0.17049452 0.174012   0.17856404 0.17732257 0.16511484\n",
      " 0.16470101 0.16987378 0.17380509 0.1721498  0.17173598 0.17794331\n",
      " 0.18001241 0.1874612  0.19325471 0.18663356 0.17421891 0.17711566\n",
      " 0.17318436 0.17380509 0.1663563  0.14938961 0.15187254 0.15352783\n",
      " 0.15145872 0.14649286 0.1491827  0.13242293 0.12849162 0.11793917\n",
      " 0.11628388 0.12290503 0.12725016 0.13490586 0.13345748 0.13242293\n",
      " 0.13056073 0.13242293 0.13138837 0.13987172 0.14938961 0.1568384\n",
      " 0.15145872 0.14318229 0.13449203 0.15394165 0.13242293 0.15352783\n",
      " 0.16656321 0.16656321 0.16987378 0.15392151 0.15727697 0.15884978\n",
      " 0.15909865 0.15858258 0.15772064 0.15676188]\n",
      "7 day output [[0.15582976]]\n",
      "8 day input [0.12456031 0.09724809 0.1127664  0.14959652 0.14111318 0.15311401\n",
      " 0.1452514  0.14607904 0.16552866 0.17835713 0.18290917 0.19573764\n",
      " 0.19449617 0.18270226 0.18415063 0.18704738 0.17835713 0.18208152\n",
      " 0.18435754 0.17794331 0.16759777 0.19573764 0.18849576 0.19325471\n",
      " 0.19966894 0.1988413  0.20153114 0.2007035  0.19925512 0.19180633\n",
      " 0.20028968 0.21125595 0.21249741 0.20691082 0.22056694 0.21146286\n",
      " 0.20546245 0.19490999 0.17877095 0.17877095 0.17090834 0.16201117\n",
      " 0.17049452 0.174012   0.17856404 0.17732257 0.16511484 0.16470101\n",
      " 0.16987378 0.17380509 0.1721498  0.17173598 0.17794331 0.18001241\n",
      " 0.1874612  0.19325471 0.18663356 0.17421891 0.17711566 0.17318436\n",
      " 0.17380509 0.1663563  0.14938961 0.15187254 0.15352783 0.15145872\n",
      " 0.14649286 0.1491827  0.13242293 0.12849162 0.11793917 0.11628388\n",
      " 0.12290503 0.12725016 0.13490586 0.13345748 0.13242293 0.13056073\n",
      " 0.13242293 0.13138837 0.13987172 0.14938961 0.1568384  0.15145872\n",
      " 0.14318229 0.13449203 0.15394165 0.13242293 0.15352783 0.16656321\n",
      " 0.16656321 0.16987378 0.15392151 0.15727697 0.15884978 0.15909865\n",
      " 0.15858258 0.15772064 0.15676188 0.15582976]\n",
      "8 day output [[0.15497455]]\n",
      "9 day input [0.09724809 0.1127664  0.14959652 0.14111318 0.15311401 0.1452514\n",
      " 0.14607904 0.16552866 0.17835713 0.18290917 0.19573764 0.19449617\n",
      " 0.18270226 0.18415063 0.18704738 0.17835713 0.18208152 0.18435754\n",
      " 0.17794331 0.16759777 0.19573764 0.18849576 0.19325471 0.19966894\n",
      " 0.1988413  0.20153114 0.2007035  0.19925512 0.19180633 0.20028968\n",
      " 0.21125595 0.21249741 0.20691082 0.22056694 0.21146286 0.20546245\n",
      " 0.19490999 0.17877095 0.17877095 0.17090834 0.16201117 0.17049452\n",
      " 0.174012   0.17856404 0.17732257 0.16511484 0.16470101 0.16987378\n",
      " 0.17380509 0.1721498  0.17173598 0.17794331 0.18001241 0.1874612\n",
      " 0.19325471 0.18663356 0.17421891 0.17711566 0.17318436 0.17380509\n",
      " 0.1663563  0.14938961 0.15187254 0.15352783 0.15145872 0.14649286\n",
      " 0.1491827  0.13242293 0.12849162 0.11793917 0.11628388 0.12290503\n",
      " 0.12725016 0.13490586 0.13345748 0.13242293 0.13056073 0.13242293\n",
      " 0.13138837 0.13987172 0.14938961 0.1568384  0.15145872 0.14318229\n",
      " 0.13449203 0.15394165 0.13242293 0.15352783 0.16656321 0.16656321\n",
      " 0.16987378 0.15392151 0.15727697 0.15884978 0.15909865 0.15858258\n",
      " 0.15772064 0.15676188 0.15582976 0.15497455]\n",
      "9 day output [[0.15421097]]\n",
      "10 day input [0.1127664  0.14959652 0.14111318 0.15311401 0.1452514  0.14607904\n",
      " 0.16552866 0.17835713 0.18290917 0.19573764 0.19449617 0.18270226\n",
      " 0.18415063 0.18704738 0.17835713 0.18208152 0.18435754 0.17794331\n",
      " 0.16759777 0.19573764 0.18849576 0.19325471 0.19966894 0.1988413\n",
      " 0.20153114 0.2007035  0.19925512 0.19180633 0.20028968 0.21125595\n",
      " 0.21249741 0.20691082 0.22056694 0.21146286 0.20546245 0.19490999\n",
      " 0.17877095 0.17877095 0.17090834 0.16201117 0.17049452 0.174012\n",
      " 0.17856404 0.17732257 0.16511484 0.16470101 0.16987378 0.17380509\n",
      " 0.1721498  0.17173598 0.17794331 0.18001241 0.1874612  0.19325471\n",
      " 0.18663356 0.17421891 0.17711566 0.17318436 0.17380509 0.1663563\n",
      " 0.14938961 0.15187254 0.15352783 0.15145872 0.14649286 0.1491827\n",
      " 0.13242293 0.12849162 0.11793917 0.11628388 0.12290503 0.12725016\n",
      " 0.13490586 0.13345748 0.13242293 0.13056073 0.13242293 0.13138837\n",
      " 0.13987172 0.14938961 0.1568384  0.15145872 0.14318229 0.13449203\n",
      " 0.15394165 0.13242293 0.15352783 0.16656321 0.16656321 0.16987378\n",
      " 0.15392151 0.15727697 0.15884978 0.15909865 0.15858258 0.15772064\n",
      " 0.15676188 0.15582976 0.15497455 0.15421097]\n",
      "10 day output [[0.15353882]]\n",
      "11 day input [0.14959652 0.14111318 0.15311401 0.1452514  0.14607904 0.16552866\n",
      " 0.17835713 0.18290917 0.19573764 0.19449617 0.18270226 0.18415063\n",
      " 0.18704738 0.17835713 0.18208152 0.18435754 0.17794331 0.16759777\n",
      " 0.19573764 0.18849576 0.19325471 0.19966894 0.1988413  0.20153114\n",
      " 0.2007035  0.19925512 0.19180633 0.20028968 0.21125595 0.21249741\n",
      " 0.20691082 0.22056694 0.21146286 0.20546245 0.19490999 0.17877095\n",
      " 0.17877095 0.17090834 0.16201117 0.17049452 0.174012   0.17856404\n",
      " 0.17732257 0.16511484 0.16470101 0.16987378 0.17380509 0.1721498\n",
      " 0.17173598 0.17794331 0.18001241 0.1874612  0.19325471 0.18663356\n",
      " 0.17421891 0.17711566 0.17318436 0.17380509 0.1663563  0.14938961\n",
      " 0.15187254 0.15352783 0.15145872 0.14649286 0.1491827  0.13242293\n",
      " 0.12849162 0.11793917 0.11628388 0.12290503 0.12725016 0.13490586\n",
      " 0.13345748 0.13242293 0.13056073 0.13242293 0.13138837 0.13987172\n",
      " 0.14938961 0.1568384  0.15145872 0.14318229 0.13449203 0.15394165\n",
      " 0.13242293 0.15352783 0.16656321 0.16656321 0.16987378 0.15392151\n",
      " 0.15727697 0.15884978 0.15909865 0.15858258 0.15772064 0.15676188\n",
      " 0.15582976 0.15497455 0.15421097 0.15353882]\n",
      "11 day output [[0.15295273]]\n",
      "12 day input [0.14111318 0.15311401 0.1452514  0.14607904 0.16552866 0.17835713\n",
      " 0.18290917 0.19573764 0.19449617 0.18270226 0.18415063 0.18704738\n",
      " 0.17835713 0.18208152 0.18435754 0.17794331 0.16759777 0.19573764\n",
      " 0.18849576 0.19325471 0.19966894 0.1988413  0.20153114 0.2007035\n",
      " 0.19925512 0.19180633 0.20028968 0.21125595 0.21249741 0.20691082\n",
      " 0.22056694 0.21146286 0.20546245 0.19490999 0.17877095 0.17877095\n",
      " 0.17090834 0.16201117 0.17049452 0.174012   0.17856404 0.17732257\n",
      " 0.16511484 0.16470101 0.16987378 0.17380509 0.1721498  0.17173598\n",
      " 0.17794331 0.18001241 0.1874612  0.19325471 0.18663356 0.17421891\n",
      " 0.17711566 0.17318436 0.17380509 0.1663563  0.14938961 0.15187254\n",
      " 0.15352783 0.15145872 0.14649286 0.1491827  0.13242293 0.12849162\n",
      " 0.11793917 0.11628388 0.12290503 0.12725016 0.13490586 0.13345748\n",
      " 0.13242293 0.13056073 0.13242293 0.13138837 0.13987172 0.14938961\n",
      " 0.1568384  0.15145872 0.14318229 0.13449203 0.15394165 0.13242293\n",
      " 0.15352783 0.16656321 0.16656321 0.16987378 0.15392151 0.15727697\n",
      " 0.15884978 0.15909865 0.15858258 0.15772064 0.15676188 0.15582976\n",
      " 0.15497455 0.15421097 0.15353882 0.15295273]\n",
      "12 day output [[0.15244514]]\n",
      "13 day input [0.15311401 0.1452514  0.14607904 0.16552866 0.17835713 0.18290917\n",
      " 0.19573764 0.19449617 0.18270226 0.18415063 0.18704738 0.17835713\n",
      " 0.18208152 0.18435754 0.17794331 0.16759777 0.19573764 0.18849576\n",
      " 0.19325471 0.19966894 0.1988413  0.20153114 0.2007035  0.19925512\n",
      " 0.19180633 0.20028968 0.21125595 0.21249741 0.20691082 0.22056694\n",
      " 0.21146286 0.20546245 0.19490999 0.17877095 0.17877095 0.17090834\n",
      " 0.16201117 0.17049452 0.174012   0.17856404 0.17732257 0.16511484\n",
      " 0.16470101 0.16987378 0.17380509 0.1721498  0.17173598 0.17794331\n",
      " 0.18001241 0.1874612  0.19325471 0.18663356 0.17421891 0.17711566\n",
      " 0.17318436 0.17380509 0.1663563  0.14938961 0.15187254 0.15352783\n",
      " 0.15145872 0.14649286 0.1491827  0.13242293 0.12849162 0.11793917\n",
      " 0.11628388 0.12290503 0.12725016 0.13490586 0.13345748 0.13242293\n",
      " 0.13056073 0.13242293 0.13138837 0.13987172 0.14938961 0.1568384\n",
      " 0.15145872 0.14318229 0.13449203 0.15394165 0.13242293 0.15352783\n",
      " 0.16656321 0.16656321 0.16987378 0.15392151 0.15727697 0.15884978\n",
      " 0.15909865 0.15858258 0.15772064 0.15676188 0.15582976 0.15497455\n",
      " 0.15421097 0.15353882 0.15295273 0.15244514]\n",
      "13 day output [[0.1520075]]\n",
      "14 day input [0.1452514  0.14607904 0.16552866 0.17835713 0.18290917 0.19573764\n",
      " 0.19449617 0.18270226 0.18415063 0.18704738 0.17835713 0.18208152\n",
      " 0.18435754 0.17794331 0.16759777 0.19573764 0.18849576 0.19325471\n",
      " 0.19966894 0.1988413  0.20153114 0.2007035  0.19925512 0.19180633\n",
      " 0.20028968 0.21125595 0.21249741 0.20691082 0.22056694 0.21146286\n",
      " 0.20546245 0.19490999 0.17877095 0.17877095 0.17090834 0.16201117\n",
      " 0.17049452 0.174012   0.17856404 0.17732257 0.16511484 0.16470101\n",
      " 0.16987378 0.17380509 0.1721498  0.17173598 0.17794331 0.18001241\n",
      " 0.1874612  0.19325471 0.18663356 0.17421891 0.17711566 0.17318436\n",
      " 0.17380509 0.1663563  0.14938961 0.15187254 0.15352783 0.15145872\n",
      " 0.14649286 0.1491827  0.13242293 0.12849162 0.11793917 0.11628388\n",
      " 0.12290503 0.12725016 0.13490586 0.13345748 0.13242293 0.13056073\n",
      " 0.13242293 0.13138837 0.13987172 0.14938961 0.1568384  0.15145872\n",
      " 0.14318229 0.13449203 0.15394165 0.13242293 0.15352783 0.16656321\n",
      " 0.16656321 0.16987378 0.15392151 0.15727697 0.15884978 0.15909865\n",
      " 0.15858258 0.15772064 0.15676188 0.15582976 0.15497455 0.15421097\n",
      " 0.15353882 0.15295273 0.15244514 0.15200751]\n",
      "14 day output [[0.15163028]]\n",
      "15 day input [0.14607904 0.16552866 0.17835713 0.18290917 0.19573764 0.19449617\n",
      " 0.18270226 0.18415063 0.18704738 0.17835713 0.18208152 0.18435754\n",
      " 0.17794331 0.16759777 0.19573764 0.18849576 0.19325471 0.19966894\n",
      " 0.1988413  0.20153114 0.2007035  0.19925512 0.19180633 0.20028968\n",
      " 0.21125595 0.21249741 0.20691082 0.22056694 0.21146286 0.20546245\n",
      " 0.19490999 0.17877095 0.17877095 0.17090834 0.16201117 0.17049452\n",
      " 0.174012   0.17856404 0.17732257 0.16511484 0.16470101 0.16987378\n",
      " 0.17380509 0.1721498  0.17173598 0.17794331 0.18001241 0.1874612\n",
      " 0.19325471 0.18663356 0.17421891 0.17711566 0.17318436 0.17380509\n",
      " 0.1663563  0.14938961 0.15187254 0.15352783 0.15145872 0.14649286\n",
      " 0.1491827  0.13242293 0.12849162 0.11793917 0.11628388 0.12290503\n",
      " 0.12725016 0.13490586 0.13345748 0.13242293 0.13056073 0.13242293\n",
      " 0.13138837 0.13987172 0.14938961 0.1568384  0.15145872 0.14318229\n",
      " 0.13449203 0.15394165 0.13242293 0.15352783 0.16656321 0.16656321\n",
      " 0.16987378 0.15392151 0.15727697 0.15884978 0.15909865 0.15858258\n",
      " 0.15772064 0.15676188 0.15582976 0.15497455 0.15421097 0.15353882\n",
      " 0.15295273 0.15244514 0.15200751 0.15163028]\n",
      "15 day output [[0.15130349]]\n",
      "16 day input [0.16552866 0.17835713 0.18290917 0.19573764 0.19449617 0.18270226\n",
      " 0.18415063 0.18704738 0.17835713 0.18208152 0.18435754 0.17794331\n",
      " 0.16759777 0.19573764 0.18849576 0.19325471 0.19966894 0.1988413\n",
      " 0.20153114 0.2007035  0.19925512 0.19180633 0.20028968 0.21125595\n",
      " 0.21249741 0.20691082 0.22056694 0.21146286 0.20546245 0.19490999\n",
      " 0.17877095 0.17877095 0.17090834 0.16201117 0.17049452 0.174012\n",
      " 0.17856404 0.17732257 0.16511484 0.16470101 0.16987378 0.17380509\n",
      " 0.1721498  0.17173598 0.17794331 0.18001241 0.1874612  0.19325471\n",
      " 0.18663356 0.17421891 0.17711566 0.17318436 0.17380509 0.1663563\n",
      " 0.14938961 0.15187254 0.15352783 0.15145872 0.14649286 0.1491827\n",
      " 0.13242293 0.12849162 0.11793917 0.11628388 0.12290503 0.12725016\n",
      " 0.13490586 0.13345748 0.13242293 0.13056073 0.13242293 0.13138837\n",
      " 0.13987172 0.14938961 0.1568384  0.15145872 0.14318229 0.13449203\n",
      " 0.15394165 0.13242293 0.15352783 0.16656321 0.16656321 0.16987378\n",
      " 0.15392151 0.15727697 0.15884978 0.15909865 0.15858258 0.15772064\n",
      " 0.15676188 0.15582976 0.15497455 0.15421097 0.15353882 0.15295273\n",
      " 0.15244514 0.15200751 0.15163028 0.15130349]\n",
      "16 day output [[0.15101695]]\n",
      "17 day input [0.17835713 0.18290917 0.19573764 0.19449617 0.18270226 0.18415063\n",
      " 0.18704738 0.17835713 0.18208152 0.18435754 0.17794331 0.16759777\n",
      " 0.19573764 0.18849576 0.19325471 0.19966894 0.1988413  0.20153114\n",
      " 0.2007035  0.19925512 0.19180633 0.20028968 0.21125595 0.21249741\n",
      " 0.20691082 0.22056694 0.21146286 0.20546245 0.19490999 0.17877095\n",
      " 0.17877095 0.17090834 0.16201117 0.17049452 0.174012   0.17856404\n",
      " 0.17732257 0.16511484 0.16470101 0.16987378 0.17380509 0.1721498\n",
      " 0.17173598 0.17794331 0.18001241 0.1874612  0.19325471 0.18663356\n",
      " 0.17421891 0.17711566 0.17318436 0.17380509 0.1663563  0.14938961\n",
      " 0.15187254 0.15352783 0.15145872 0.14649286 0.1491827  0.13242293\n",
      " 0.12849162 0.11793917 0.11628388 0.12290503 0.12725016 0.13490586\n",
      " 0.13345748 0.13242293 0.13056073 0.13242293 0.13138837 0.13987172\n",
      " 0.14938961 0.1568384  0.15145872 0.14318229 0.13449203 0.15394165\n",
      " 0.13242293 0.15352783 0.16656321 0.16656321 0.16987378 0.15392151\n",
      " 0.15727697 0.15884978 0.15909865 0.15858258 0.15772064 0.15676188\n",
      " 0.15582976 0.15497455 0.15421097 0.15353882 0.15295273 0.15244514\n",
      " 0.15200751 0.15163028 0.15130349 0.15101695]\n",
      "17 day output [[0.15076102]]\n",
      "18 day input [0.18290917 0.19573764 0.19449617 0.18270226 0.18415063 0.18704738\n",
      " 0.17835713 0.18208152 0.18435754 0.17794331 0.16759777 0.19573764\n",
      " 0.18849576 0.19325471 0.19966894 0.1988413  0.20153114 0.2007035\n",
      " 0.19925512 0.19180633 0.20028968 0.21125595 0.21249741 0.20691082\n",
      " 0.22056694 0.21146286 0.20546245 0.19490999 0.17877095 0.17877095\n",
      " 0.17090834 0.16201117 0.17049452 0.174012   0.17856404 0.17732257\n",
      " 0.16511484 0.16470101 0.16987378 0.17380509 0.1721498  0.17173598\n",
      " 0.17794331 0.18001241 0.1874612  0.19325471 0.18663356 0.17421891\n",
      " 0.17711566 0.17318436 0.17380509 0.1663563  0.14938961 0.15187254\n",
      " 0.15352783 0.15145872 0.14649286 0.1491827  0.13242293 0.12849162\n",
      " 0.11793917 0.11628388 0.12290503 0.12725016 0.13490586 0.13345748\n",
      " 0.13242293 0.13056073 0.13242293 0.13138837 0.13987172 0.14938961\n",
      " 0.1568384  0.15145872 0.14318229 0.13449203 0.15394165 0.13242293\n",
      " 0.15352783 0.16656321 0.16656321 0.16987378 0.15392151 0.15727697\n",
      " 0.15884978 0.15909865 0.15858258 0.15772064 0.15676188 0.15582976\n",
      " 0.15497455 0.15421097 0.15353882 0.15295273 0.15244514 0.15200751\n",
      " 0.15163028 0.15130349 0.15101695 0.15076102]\n",
      "18 day output [[0.15052685]]\n",
      "19 day input [0.19573764 0.19449617 0.18270226 0.18415063 0.18704738 0.17835713\n",
      " 0.18208152 0.18435754 0.17794331 0.16759777 0.19573764 0.18849576\n",
      " 0.19325471 0.19966894 0.1988413  0.20153114 0.2007035  0.19925512\n",
      " 0.19180633 0.20028968 0.21125595 0.21249741 0.20691082 0.22056694\n",
      " 0.21146286 0.20546245 0.19490999 0.17877095 0.17877095 0.17090834\n",
      " 0.16201117 0.17049452 0.174012   0.17856404 0.17732257 0.16511484\n",
      " 0.16470101 0.16987378 0.17380509 0.1721498  0.17173598 0.17794331\n",
      " 0.18001241 0.1874612  0.19325471 0.18663356 0.17421891 0.17711566\n",
      " 0.17318436 0.17380509 0.1663563  0.14938961 0.15187254 0.15352783\n",
      " 0.15145872 0.14649286 0.1491827  0.13242293 0.12849162 0.11793917\n",
      " 0.11628388 0.12290503 0.12725016 0.13490586 0.13345748 0.13242293\n",
      " 0.13056073 0.13242293 0.13138837 0.13987172 0.14938961 0.1568384\n",
      " 0.15145872 0.14318229 0.13449203 0.15394165 0.13242293 0.15352783\n",
      " 0.16656321 0.16656321 0.16987378 0.15392151 0.15727697 0.15884978\n",
      " 0.15909865 0.15858258 0.15772064 0.15676188 0.15582976 0.15497455\n",
      " 0.15421097 0.15353882 0.15295273 0.15244514 0.15200751 0.15163028\n",
      " 0.15130349 0.15101695 0.15076102 0.15052685]\n",
      "19 day output [[0.15030694]]\n",
      "20 day input [0.19449617 0.18270226 0.18415063 0.18704738 0.17835713 0.18208152\n",
      " 0.18435754 0.17794331 0.16759777 0.19573764 0.18849576 0.19325471\n",
      " 0.19966894 0.1988413  0.20153114 0.2007035  0.19925512 0.19180633\n",
      " 0.20028968 0.21125595 0.21249741 0.20691082 0.22056694 0.21146286\n",
      " 0.20546245 0.19490999 0.17877095 0.17877095 0.17090834 0.16201117\n",
      " 0.17049452 0.174012   0.17856404 0.17732257 0.16511484 0.16470101\n",
      " 0.16987378 0.17380509 0.1721498  0.17173598 0.17794331 0.18001241\n",
      " 0.1874612  0.19325471 0.18663356 0.17421891 0.17711566 0.17318436\n",
      " 0.17380509 0.1663563  0.14938961 0.15187254 0.15352783 0.15145872\n",
      " 0.14649286 0.1491827  0.13242293 0.12849162 0.11793917 0.11628388\n",
      " 0.12290503 0.12725016 0.13490586 0.13345748 0.13242293 0.13056073\n",
      " 0.13242293 0.13138837 0.13987172 0.14938961 0.1568384  0.15145872\n",
      " 0.14318229 0.13449203 0.15394165 0.13242293 0.15352783 0.16656321\n",
      " 0.16656321 0.16987378 0.15392151 0.15727697 0.15884978 0.15909865\n",
      " 0.15858258 0.15772064 0.15676188 0.15582976 0.15497455 0.15421097\n",
      " 0.15353882 0.15295273 0.15244514 0.15200751 0.15163028 0.15130349\n",
      " 0.15101695 0.15076102 0.15052685 0.15030694]\n",
      "20 day output [[0.15009508]]\n",
      "21 day input [0.18270226 0.18415063 0.18704738 0.17835713 0.18208152 0.18435754\n",
      " 0.17794331 0.16759777 0.19573764 0.18849576 0.19325471 0.19966894\n",
      " 0.1988413  0.20153114 0.2007035  0.19925512 0.19180633 0.20028968\n",
      " 0.21125595 0.21249741 0.20691082 0.22056694 0.21146286 0.20546245\n",
      " 0.19490999 0.17877095 0.17877095 0.17090834 0.16201117 0.17049452\n",
      " 0.174012   0.17856404 0.17732257 0.16511484 0.16470101 0.16987378\n",
      " 0.17380509 0.1721498  0.17173598 0.17794331 0.18001241 0.1874612\n",
      " 0.19325471 0.18663356 0.17421891 0.17711566 0.17318436 0.17380509\n",
      " 0.1663563  0.14938961 0.15187254 0.15352783 0.15145872 0.14649286\n",
      " 0.1491827  0.13242293 0.12849162 0.11793917 0.11628388 0.12290503\n",
      " 0.12725016 0.13490586 0.13345748 0.13242293 0.13056073 0.13242293\n",
      " 0.13138837 0.13987172 0.14938961 0.1568384  0.15145872 0.14318229\n",
      " 0.13449203 0.15394165 0.13242293 0.15352783 0.16656321 0.16656321\n",
      " 0.16987378 0.15392151 0.15727697 0.15884978 0.15909865 0.15858258\n",
      " 0.15772064 0.15676188 0.15582976 0.15497455 0.15421097 0.15353882\n",
      " 0.15295273 0.15244514 0.15200751 0.15163028 0.15130349 0.15101695\n",
      " 0.15076102 0.15052685 0.15030694 0.15009508]\n",
      "21 day output [[0.14988656]]\n",
      "22 day input [0.18415063 0.18704738 0.17835713 0.18208152 0.18435754 0.17794331\n",
      " 0.16759777 0.19573764 0.18849576 0.19325471 0.19966894 0.1988413\n",
      " 0.20153114 0.2007035  0.19925512 0.19180633 0.20028968 0.21125595\n",
      " 0.21249741 0.20691082 0.22056694 0.21146286 0.20546245 0.19490999\n",
      " 0.17877095 0.17877095 0.17090834 0.16201117 0.17049452 0.174012\n",
      " 0.17856404 0.17732257 0.16511484 0.16470101 0.16987378 0.17380509\n",
      " 0.1721498  0.17173598 0.17794331 0.18001241 0.1874612  0.19325471\n",
      " 0.18663356 0.17421891 0.17711566 0.17318436 0.17380509 0.1663563\n",
      " 0.14938961 0.15187254 0.15352783 0.15145872 0.14649286 0.1491827\n",
      " 0.13242293 0.12849162 0.11793917 0.11628388 0.12290503 0.12725016\n",
      " 0.13490586 0.13345748 0.13242293 0.13056073 0.13242293 0.13138837\n",
      " 0.13987172 0.14938961 0.1568384  0.15145872 0.14318229 0.13449203\n",
      " 0.15394165 0.13242293 0.15352783 0.16656321 0.16656321 0.16987378\n",
      " 0.15392151 0.15727697 0.15884978 0.15909865 0.15858258 0.15772064\n",
      " 0.15676188 0.15582976 0.15497455 0.15421097 0.15353882 0.15295273\n",
      " 0.15244514 0.15200751 0.15163028 0.15130349 0.15101695 0.15076102\n",
      " 0.15052685 0.15030694 0.15009508 0.14988656]\n",
      "22 day output [[0.14967808]]\n",
      "23 day input [0.18704738 0.17835713 0.18208152 0.18435754 0.17794331 0.16759777\n",
      " 0.19573764 0.18849576 0.19325471 0.19966894 0.1988413  0.20153114\n",
      " 0.2007035  0.19925512 0.19180633 0.20028968 0.21125595 0.21249741\n",
      " 0.20691082 0.22056694 0.21146286 0.20546245 0.19490999 0.17877095\n",
      " 0.17877095 0.17090834 0.16201117 0.17049452 0.174012   0.17856404\n",
      " 0.17732257 0.16511484 0.16470101 0.16987378 0.17380509 0.1721498\n",
      " 0.17173598 0.17794331 0.18001241 0.1874612  0.19325471 0.18663356\n",
      " 0.17421891 0.17711566 0.17318436 0.17380509 0.1663563  0.14938961\n",
      " 0.15187254 0.15352783 0.15145872 0.14649286 0.1491827  0.13242293\n",
      " 0.12849162 0.11793917 0.11628388 0.12290503 0.12725016 0.13490586\n",
      " 0.13345748 0.13242293 0.13056073 0.13242293 0.13138837 0.13987172\n",
      " 0.14938961 0.1568384  0.15145872 0.14318229 0.13449203 0.15394165\n",
      " 0.13242293 0.15352783 0.16656321 0.16656321 0.16987378 0.15392151\n",
      " 0.15727697 0.15884978 0.15909865 0.15858258 0.15772064 0.15676188\n",
      " 0.15582976 0.15497455 0.15421097 0.15353882 0.15295273 0.15244514\n",
      " 0.15200751 0.15163028 0.15130349 0.15101695 0.15076102 0.15052685\n",
      " 0.15030694 0.15009508 0.14988656 0.14967808]\n",
      "23 day output [[0.14946759]]\n",
      "24 day input [0.17835713 0.18208152 0.18435754 0.17794331 0.16759777 0.19573764\n",
      " 0.18849576 0.19325471 0.19966894 0.1988413  0.20153114 0.2007035\n",
      " 0.19925512 0.19180633 0.20028968 0.21125595 0.21249741 0.20691082\n",
      " 0.22056694 0.21146286 0.20546245 0.19490999 0.17877095 0.17877095\n",
      " 0.17090834 0.16201117 0.17049452 0.174012   0.17856404 0.17732257\n",
      " 0.16511484 0.16470101 0.16987378 0.17380509 0.1721498  0.17173598\n",
      " 0.17794331 0.18001241 0.1874612  0.19325471 0.18663356 0.17421891\n",
      " 0.17711566 0.17318436 0.17380509 0.1663563  0.14938961 0.15187254\n",
      " 0.15352783 0.15145872 0.14649286 0.1491827  0.13242293 0.12849162\n",
      " 0.11793917 0.11628388 0.12290503 0.12725016 0.13490586 0.13345748\n",
      " 0.13242293 0.13056073 0.13242293 0.13138837 0.13987172 0.14938961\n",
      " 0.1568384  0.15145872 0.14318229 0.13449203 0.15394165 0.13242293\n",
      " 0.15352783 0.16656321 0.16656321 0.16987378 0.15392151 0.15727697\n",
      " 0.15884978 0.15909865 0.15858258 0.15772064 0.15676188 0.15582976\n",
      " 0.15497455 0.15421097 0.15353882 0.15295273 0.15244514 0.15200751\n",
      " 0.15163028 0.15130349 0.15101695 0.15076102 0.15052685 0.15030694\n",
      " 0.15009508 0.14988656 0.14967808 0.14946759]\n",
      "24 day output [[0.14925401]]\n",
      "25 day input [0.18208152 0.18435754 0.17794331 0.16759777 0.19573764 0.18849576\n",
      " 0.19325471 0.19966894 0.1988413  0.20153114 0.2007035  0.19925512\n",
      " 0.19180633 0.20028968 0.21125595 0.21249741 0.20691082 0.22056694\n",
      " 0.21146286 0.20546245 0.19490999 0.17877095 0.17877095 0.17090834\n",
      " 0.16201117 0.17049452 0.174012   0.17856404 0.17732257 0.16511484\n",
      " 0.16470101 0.16987378 0.17380509 0.1721498  0.17173598 0.17794331\n",
      " 0.18001241 0.1874612  0.19325471 0.18663356 0.17421891 0.17711566\n",
      " 0.17318436 0.17380509 0.1663563  0.14938961 0.15187254 0.15352783\n",
      " 0.15145872 0.14649286 0.1491827  0.13242293 0.12849162 0.11793917\n",
      " 0.11628388 0.12290503 0.12725016 0.13490586 0.13345748 0.13242293\n",
      " 0.13056073 0.13242293 0.13138837 0.13987172 0.14938961 0.1568384\n",
      " 0.15145872 0.14318229 0.13449203 0.15394165 0.13242293 0.15352783\n",
      " 0.16656321 0.16656321 0.16987378 0.15392151 0.15727697 0.15884978\n",
      " 0.15909865 0.15858258 0.15772064 0.15676188 0.15582976 0.15497455\n",
      " 0.15421097 0.15353882 0.15295273 0.15244514 0.15200751 0.15163028\n",
      " 0.15130349 0.15101695 0.15076102 0.15052685 0.15030694 0.15009508\n",
      " 0.14988656 0.14967808 0.14946759 0.14925401]\n",
      "25 day output [[0.14903718]]\n",
      "26 day input [0.18435754 0.17794331 0.16759777 0.19573764 0.18849576 0.19325471\n",
      " 0.19966894 0.1988413  0.20153114 0.2007035  0.19925512 0.19180633\n",
      " 0.20028968 0.21125595 0.21249741 0.20691082 0.22056694 0.21146286\n",
      " 0.20546245 0.19490999 0.17877095 0.17877095 0.17090834 0.16201117\n",
      " 0.17049452 0.174012   0.17856404 0.17732257 0.16511484 0.16470101\n",
      " 0.16987378 0.17380509 0.1721498  0.17173598 0.17794331 0.18001241\n",
      " 0.1874612  0.19325471 0.18663356 0.17421891 0.17711566 0.17318436\n",
      " 0.17380509 0.1663563  0.14938961 0.15187254 0.15352783 0.15145872\n",
      " 0.14649286 0.1491827  0.13242293 0.12849162 0.11793917 0.11628388\n",
      " 0.12290503 0.12725016 0.13490586 0.13345748 0.13242293 0.13056073\n",
      " 0.13242293 0.13138837 0.13987172 0.14938961 0.1568384  0.15145872\n",
      " 0.14318229 0.13449203 0.15394165 0.13242293 0.15352783 0.16656321\n",
      " 0.16656321 0.16987378 0.15392151 0.15727697 0.15884978 0.15909865\n",
      " 0.15858258 0.15772064 0.15676188 0.15582976 0.15497455 0.15421097\n",
      " 0.15353882 0.15295273 0.15244514 0.15200751 0.15163028 0.15130349\n",
      " 0.15101695 0.15076102 0.15052685 0.15030694 0.15009508 0.14988656\n",
      " 0.14967808 0.14946759 0.14925401 0.14903718]\n",
      "26 day output [[0.14881757]]\n",
      "27 day input [0.17794331 0.16759777 0.19573764 0.18849576 0.19325471 0.19966894\n",
      " 0.1988413  0.20153114 0.2007035  0.19925512 0.19180633 0.20028968\n",
      " 0.21125595 0.21249741 0.20691082 0.22056694 0.21146286 0.20546245\n",
      " 0.19490999 0.17877095 0.17877095 0.17090834 0.16201117 0.17049452\n",
      " 0.174012   0.17856404 0.17732257 0.16511484 0.16470101 0.16987378\n",
      " 0.17380509 0.1721498  0.17173598 0.17794331 0.18001241 0.1874612\n",
      " 0.19325471 0.18663356 0.17421891 0.17711566 0.17318436 0.17380509\n",
      " 0.1663563  0.14938961 0.15187254 0.15352783 0.15145872 0.14649286\n",
      " 0.1491827  0.13242293 0.12849162 0.11793917 0.11628388 0.12290503\n",
      " 0.12725016 0.13490586 0.13345748 0.13242293 0.13056073 0.13242293\n",
      " 0.13138837 0.13987172 0.14938961 0.1568384  0.15145872 0.14318229\n",
      " 0.13449203 0.15394165 0.13242293 0.15352783 0.16656321 0.16656321\n",
      " 0.16987378 0.15392151 0.15727697 0.15884978 0.15909865 0.15858258\n",
      " 0.15772064 0.15676188 0.15582976 0.15497455 0.15421097 0.15353882\n",
      " 0.15295273 0.15244514 0.15200751 0.15163028 0.15130349 0.15101695\n",
      " 0.15076102 0.15052685 0.15030694 0.15009508 0.14988656 0.14967808\n",
      " 0.14946759 0.14925401 0.14903718 0.14881757]\n",
      "27 day output [[0.14859602]]\n",
      "28 day input [0.16759777 0.19573764 0.18849576 0.19325471 0.19966894 0.1988413\n",
      " 0.20153114 0.2007035  0.19925512 0.19180633 0.20028968 0.21125595\n",
      " 0.21249741 0.20691082 0.22056694 0.21146286 0.20546245 0.19490999\n",
      " 0.17877095 0.17877095 0.17090834 0.16201117 0.17049452 0.174012\n",
      " 0.17856404 0.17732257 0.16511484 0.16470101 0.16987378 0.17380509\n",
      " 0.1721498  0.17173598 0.17794331 0.18001241 0.1874612  0.19325471\n",
      " 0.18663356 0.17421891 0.17711566 0.17318436 0.17380509 0.1663563\n",
      " 0.14938961 0.15187254 0.15352783 0.15145872 0.14649286 0.1491827\n",
      " 0.13242293 0.12849162 0.11793917 0.11628388 0.12290503 0.12725016\n",
      " 0.13490586 0.13345748 0.13242293 0.13056073 0.13242293 0.13138837\n",
      " 0.13987172 0.14938961 0.1568384  0.15145872 0.14318229 0.13449203\n",
      " 0.15394165 0.13242293 0.15352783 0.16656321 0.16656321 0.16987378\n",
      " 0.15392151 0.15727697 0.15884978 0.15909865 0.15858258 0.15772064\n",
      " 0.15676188 0.15582976 0.15497455 0.15421097 0.15353882 0.15295273\n",
      " 0.15244514 0.15200751 0.15163028 0.15130349 0.15101695 0.15076102\n",
      " 0.15052685 0.15030694 0.15009508 0.14988656 0.14967808 0.14946759\n",
      " 0.14925401 0.14903718 0.14881757 0.14859602]\n",
      "28 day output [[0.14837366]]\n",
      "29 day input [0.19573764 0.18849576 0.19325471 0.19966894 0.1988413  0.20153114\n",
      " 0.2007035  0.19925512 0.19180633 0.20028968 0.21125595 0.21249741\n",
      " 0.20691082 0.22056694 0.21146286 0.20546245 0.19490999 0.17877095\n",
      " 0.17877095 0.17090834 0.16201117 0.17049452 0.174012   0.17856404\n",
      " 0.17732257 0.16511484 0.16470101 0.16987378 0.17380509 0.1721498\n",
      " 0.17173598 0.17794331 0.18001241 0.1874612  0.19325471 0.18663356\n",
      " 0.17421891 0.17711566 0.17318436 0.17380509 0.1663563  0.14938961\n",
      " 0.15187254 0.15352783 0.15145872 0.14649286 0.1491827  0.13242293\n",
      " 0.12849162 0.11793917 0.11628388 0.12290503 0.12725016 0.13490586\n",
      " 0.13345748 0.13242293 0.13056073 0.13242293 0.13138837 0.13987172\n",
      " 0.14938961 0.1568384  0.15145872 0.14318229 0.13449203 0.15394165\n",
      " 0.13242293 0.15352783 0.16656321 0.16656321 0.16987378 0.15392151\n",
      " 0.15727697 0.15884978 0.15909865 0.15858258 0.15772064 0.15676188\n",
      " 0.15582976 0.15497455 0.15421097 0.15353882 0.15295273 0.15244514\n",
      " 0.15200751 0.15163028 0.15130349 0.15101695 0.15076102 0.15052685\n",
      " 0.15030694 0.15009508 0.14988656 0.14967808 0.14946759 0.14925401\n",
      " 0.14903718 0.14881757 0.14859602 0.14837366]\n",
      "29 day output [[0.14815179]]\n",
      "[[0.15392151474952698], [0.1572769731283188], [0.1588497757911682], [0.15909865498542786], [0.15858258306980133], [0.1577206403017044], [0.15676188468933105], [0.1558297574520111], [0.1549745500087738], [0.15421096980571747], [0.15353882312774658], [0.15295273065567017], [0.15244513750076294], [0.15200750529766083], [0.15163028240203857], [0.1513034850358963], [0.1510169506072998], [0.15076102316379547], [0.15052685141563416], [0.15030694007873535], [0.15009507536888123], [0.14988656342029572], [0.1496780812740326], [0.1494675874710083], [0.14925400912761688], [0.1490371823310852], [0.14881756901741028], [0.14859601855278015], [0.14837366342544556], [0.14815178513526917]]\n"
     ]
    }
   ],
   "source": [
    "from numpy import array\n",
    "\n",
    "lst_output=[]\n",
    "n_steps=100\n",
    "i=0\n",
    "while(i<30):\n",
    "    \n",
    "    if(len(temp_input)>100):\n",
    "        x_input=np.array(temp_input[1:])\n",
    "        print(\"{} day input {}\".format(i,x_input))\n",
    "        x_input=x_input.reshape(1,-1)\n",
    "        x_input = x_input.reshape((1, n_steps, 1))\n",
    "        #print(x_input)\n",
    "        yhat = model.predict(x_input, verbose=0)\n",
    "        print(\"{} day output {}\".format(i,yhat))\n",
    "        temp_input.extend(yhat[0].tolist())\n",
    "        temp_input=temp_input[1:]\n",
    "        #print(temp_input)\n",
    "        lst_output.extend(yhat.tolist())\n",
    "        i=i+1\n",
    "    else:\n",
    "        x_input = x_input.reshape((1, n_steps,1))\n",
    "        yhat = model.predict(x_input, verbose=0)\n",
    "        print(yhat[0])\n",
    "        temp_input.extend(yhat[0].tolist())\n",
    "        print(len(temp_input))\n",
    "        lst_output.extend(yhat.tolist())\n",
    "        i=i+1\n",
    "    \n",
    "\n",
    "print(lst_output)"
   ]
  },
  {
   "cell_type": "code",
   "execution_count": 23,
   "metadata": {},
   "outputs": [],
   "source": [
    "day_new=np.arange(1,101)\n",
    "day_pred=np.arange(101,131)"
   ]
  },
  {
   "cell_type": "code",
   "execution_count": 24,
   "metadata": {},
   "outputs": [],
   "source": [
    "import matplotlib.pyplot as plt"
   ]
  },
  {
   "cell_type": "code",
   "execution_count": 25,
   "metadata": {},
   "outputs": [
    {
     "data": {
      "text/plain": [
       "2035"
      ]
     },
     "execution_count": 25,
     "metadata": {},
     "output_type": "execute_result"
    }
   ],
   "source": [
    "len(df1)"
   ]
  },
  {
   "cell_type": "code",
   "execution_count": 26,
   "metadata": {},
   "outputs": [
    {
     "data": {
      "text/plain": [
       "[<matplotlib.lines.Line2D at 0x1bcd63482b0>]"
      ]
     },
     "execution_count": 26,
     "metadata": {},
     "output_type": "execute_result"
    },
    {
     "data": {
      "image/png": "[encoded data removed]",
      "text/plain": [
       "<Figure size 432x288 with 1 Axes>"
      ]
     },
     "metadata": {
      "needs_background": "light"
     },
     "output_type": "display_data"
    }
   ],
   "source": [
    "plt.plot(day_new,scaler.inverse_transform(df1[1935:]))\n",
    "plt.plot(day_pred,scaler.inverse_transform(lst_output))"
   ]
  },
  {
   "cell_type": "code",
   "execution_count": 27,
   "metadata": {},
   "outputs": [
    {
     "data": {
      "text/plain": [
       "[<matplotlib.lines.Line2D at 0x1bcd81c2640>]"
      ]
     },
     "execution_count": 27,
     "metadata": {},
     "output_type": "execute_result"
    },
    {
     "data": {
      "image/png": "[encoded data removed]",
      "text/plain": [
       "<Figure size 432x288 with 1 Axes>"
      ]
     },
     "metadata": {
      "needs_background": "light"
     },
     "output_type": "display_data"
    }
   ],
   "source": [
    "df3=df1.tolist()\n",
    "df3.extend(lst_output)\n",
    "plt.plot(df3[1935:])"
   ]
  },
  {
   "cell_type": "code",
   "execution_count": 28,
   "metadata": {},
   "outputs": [],
   "source": [
    "df3=scaler.inverse_transform(df3).tolist()"
   ]
  },
  {
   "cell_type": "code",
   "execution_count": 29,
   "metadata": {},
   "outputs": [
    {
     "data": {
      "text/plain": [
       "[<matplotlib.lines.Line2D at 0x1bcd8192370>]"
      ]
     },
     "execution_count": 29,
     "metadata": {},
     "output_type": "execute_result"
    },
    {
     "data": {
      "image/png": "[encoded data removed]",
      "text/plain": [
       "<Figure size 432x288 with 1 Axes>"
      ]
     },
     "metadata": {
      "needs_background": "light"
     },
     "output_type": "display_data"
    }
   ],
   "source": [
    "plt.plot(df3)"
   ]
  },
  {
   "cell_type": "code",
   "execution_count": null,
   "metadata": {},
   "outputs": [],
   "source": []
  }
 ],
 "metadata": {
  "interpreter": {
   "hash": "c79ead59f29e134e998346a450e0935a86ce2821ab5ea091c75cc2566743050b"
  },
  "kernelspec": {
   "display_name": "Python 3.9.0 64-bit",
   "language": "python",
   "name": "python3"
  },
  "language_info": {
   "codemirror_mode": {
    "name": "ipython",
    "version": 3
   },
   "file_extension": ".py",
   "mimetype": "text/x-python",
   "name": "python",
   "nbconvert_exporter": "python",
   "pygments_lexer": "ipython3",
   "version": "3.9.0"
  },
  "orig_nbformat": 4
 },
 "nbformat": 4,
 "nbformat_minor": 2
}
